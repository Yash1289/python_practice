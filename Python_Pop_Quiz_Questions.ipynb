{
  "nbformat": 4,
  "nbformat_minor": 0,
  "metadata": {
    "colab": {
      "provenance": [],
      "authorship_tag": "ABX9TyOhIUZCl2PJJITYQszyaIz7",
      "include_colab_link": true
    },
    "kernelspec": {
      "name": "python3",
      "display_name": "Python 3"
    },
    "language_info": {
      "name": "python"
    }
  },
  "cells": [
    {
      "cell_type": "markdown",
      "metadata": {
        "id": "view-in-github",
        "colab_type": "text"
      },
      "source": [
        "<a href=\"https://colab.research.google.com/github/Yash1289/python_practice/blob/main/Python_Pop_Quiz_Questions.ipynb\" target=\"_parent\"><img src=\"https://colab.research.google.com/assets/colab-badge.svg\" alt=\"Open In Colab\"/></a>"
      ]
    },
    {
      "cell_type": "code",
      "execution_count": 6,
      "metadata": {
        "colab": {
          "base_uri": "https://localhost:8080/"
        },
        "id": "tgZTIAjngM3u",
        "outputId": "07e08b4b-4123-4fee-8a0a-b213f415d294"
      },
      "outputs": [
        {
          "output_type": "stream",
          "name": "stdout",
          "text": [
            "1 2\n"
          ]
        }
      ],
      "source": [
        "#Create a quick Generator object\n",
        "row = [1,2,3,4]\n",
        "\n",
        "#Not tuple\n",
        "num_gen = (r for r in row)\n",
        "\n",
        "print(next(num_gen), next(num_gen))"
      ]
    },
    {
      "cell_type": "code",
      "source": [
        "#Use of Print statements in various ways\n",
        "a = \"a\"\n",
        "b = \"b\"\n",
        "print(a, b)\n",
        "print(\"a\", \"b\")\n",
        "print(\"a\" \"b\")\n",
        "print(f\"{a}\")\n",
        "print(f\"{a=}\")\n",
        "print(f\"{a:.<9}\")\n",
        "print(f'{\"a\":.>9}')\n",
        "print(True+False)\n",
        "#print(True+None) --> This one will give type error as we are adding bool and NoneType"
      ],
      "metadata": {
        "colab": {
          "base_uri": "https://localhost:8080/"
        },
        "id": "l7YVWLG3gRz6",
        "outputId": "a0ef6b23-85c0-4636-9ab1-1993db20ff76"
      },
      "execution_count": 11,
      "outputs": [
        {
          "output_type": "stream",
          "name": "stdout",
          "text": [
            "a b\n",
            "a b\n",
            "ab\n",
            "a\n",
            "a='a'\n",
            "a........\n",
            "........a\n",
            "1\n"
          ]
        }
      ]
    },
    {
      "cell_type": "code",
      "source": [
        "'''\n",
        "i = 1\n",
        "while True:\n",
        "    if i % 3 == 0:\n",
        "        break\n",
        "    print(i)\n",
        " \n",
        "    i + = 1\n",
        "'''\n",
        "#As the '+' and '=' are spaced this code will not work"
      ],
      "metadata": {
        "colab": {
          "base_uri": "https://localhost:8080/",
          "height": 35
        },
        "id": "Mwn6Co8aGZxc",
        "outputId": "9426de4f-45d0-4713-8dde-a825ac7aae3c"
      },
      "execution_count": 12,
      "outputs": [
        {
          "output_type": "execute_result",
          "data": {
            "text/plain": [
              "'\\ni = 1\\nwhile True:\\n    if i % 3 == 0:\\n        break\\n    print(i)\\n \\n    i + = 1\\n'"
            ],
            "application/vnd.google.colaboratory.intrinsic+json": {
              "type": "string"
            }
          },
          "metadata": {},
          "execution_count": 12
        }
      ]
    },
    {
      "cell_type": "code",
      "source": [
        ">>> 2 << 7"
      ],
      "metadata": {
        "colab": {
          "base_uri": "https://localhost:8080/"
        },
        "id": "6EUqWYwEE2YO",
        "outputId": "7a4fee7e-e750-4a36-882e-5c9484116534"
      },
      "execution_count": 13,
      "outputs": [
        {
          "output_type": "execute_result",
          "data": {
            "text/plain": [
              "256"
            ]
          },
          "metadata": {},
          "execution_count": 13
        }
      ]
    },
    {
      "cell_type": "markdown",
      "source": [
        "'<<' is referred to as a bitwise left shift. A bit-shift shifts each digit in a number's binary left or right. Shifting can be left(most significant bit is lost and 0 inserted on the opposite end) and right(least significant bit lost and 0 inserted on the opposite end."
      ],
      "metadata": {
        "id": "fwu3xim0G2FF"
      }
    },
    {
      "cell_type": "code",
      "source": [
        "class classy:\n",
        "  def __init__(self, id):\n",
        "    self.id = str(id)\n",
        "    id=\"11\"\n",
        " \n",
        "instance = classy(22)\n",
        "instance.id"
      ],
      "metadata": {
        "colab": {
          "base_uri": "https://localhost:8080/",
          "height": 35
        },
        "id": "3Mh-aghNG36U",
        "outputId": "b6cb4e72-6162-4bce-81b6-89a95c9b8573"
      },
      "execution_count": 18,
      "outputs": [
        {
          "output_type": "execute_result",
          "data": {
            "text/plain": [
              "'22'"
            ],
            "application/vnd.google.colaboratory.intrinsic+json": {
              "type": "string"
            }
          },
          "metadata": {},
          "execution_count": 18
        }
      ]
    },
    {
      "cell_type": "markdown",
      "source": [
        "Above we initialize a class and instantiate it with the value '22'. This will be the result of the above snippet."
      ],
      "metadata": {
        "id": "scnSKrrVIDaU"
      }
    },
    {
      "cell_type": "code",
      "source": [
        "def funk(lst):\n",
        "    lst[0] = ['def']\n",
        "    lst[1] = ['abc']\n",
        "    return id(lst)\n",
        "\n",
        "lst = ['abc', 'def']\n",
        "id(lst) == funk(lst)"
      ],
      "metadata": {
        "colab": {
          "base_uri": "https://localhost:8080/"
        },
        "id": "AxWmP0MKIFcL",
        "outputId": "97bc411e-da70-475d-928d-97f1a6761cbd"
      },
      "execution_count": 19,
      "outputs": [
        {
          "output_type": "execute_result",
          "data": {
            "text/plain": [
              "True"
            ]
          },
          "metadata": {},
          "execution_count": 19
        }
      ]
    },
    {
      "cell_type": "markdown",
      "source": [
        "The 'id' function returns a unique id based on the value passed. In this case, we evaluate the same object and therefore we expect the left and right sides to be equal."
      ],
      "metadata": {
        "id": "wXUDYOBeIYQC"
      }
    },
    {
      "cell_type": "code",
      "source": [
        "\"a\" + 'bc'\n"
      ],
      "metadata": {
        "colab": {
          "base_uri": "https://localhost:8080/",
          "height": 35
        },
        "id": "SODiO8RxIbTy",
        "outputId": "b6187e21-76a2-4f79-e18c-b07e197a39bd"
      },
      "execution_count": 20,
      "outputs": [
        {
          "output_type": "execute_result",
          "data": {
            "text/plain": [
              "'abc'"
            ],
            "application/vnd.google.colaboratory.intrinsic+json": {
              "type": "string"
            }
          },
          "metadata": {},
          "execution_count": 20
        }
      ]
    },
    {
      "cell_type": "code",
      "source": [
        "#False numerical value\n",
        "min(max(False, -7.5, -7), 2, 1, 9)\n"
      ],
      "metadata": {
        "colab": {
          "base_uri": "https://localhost:8080/"
        },
        "id": "ErnsSl53ItdK",
        "outputId": "f61cd0ca-e155-465d-ba50-6f20e34d8318"
      },
      "execution_count": 23,
      "outputs": [
        {
          "output_type": "execute_result",
          "data": {
            "text/plain": [
              "False"
            ]
          },
          "metadata": {},
          "execution_count": 23
        }
      ]
    },
    {
      "cell_type": "markdown",
      "source": [
        "Above max function gets the maximum between -7.5, -7, and False. Here, False is the maximum since it is zero, then between False, 2, 1, and 9, False is the minimum(min) therefore it prints False."
      ],
      "metadata": {
        "id": "gDnSTIJ-Ix3x"
      }
    },
    {
      "cell_type": "code",
      "source": [
        "#number formatting\n",
        "\n",
        "num = 100.119\n",
        "\n",
        "print(\"%.2f\"% num)"
      ],
      "metadata": {
        "colab": {
          "base_uri": "https://localhost:8080/"
        },
        "id": "sr1tUZAzWskr",
        "outputId": "192d049c-4467-4afe-fa66-b7e4872936e5"
      },
      "execution_count": 22,
      "outputs": [
        {
          "output_type": "stream",
          "name": "stdout",
          "text": [
            "100.12\n"
          ]
        }
      ]
    },
    {
      "cell_type": "code",
      "source": [
        "#lambda function with arguments\n",
        "\n",
        "(lambda x, y: x * y)(2, 3)"
      ],
      "metadata": {
        "colab": {
          "base_uri": "https://localhost:8080/"
        },
        "id": "9-6DbEFJXNVy",
        "outputId": "9aa487c1-d6f3-469f-9d97-4e7e046b1c91"
      },
      "execution_count": 24,
      "outputs": [
        {
          "output_type": "execute_result",
          "data": {
            "text/plain": [
              "6"
            ]
          },
          "metadata": {},
          "execution_count": 24
        }
      ]
    },
    {
      "cell_type": "code",
      "source": [
        "#how to set a default key for a dicitonary, faster than .get\n",
        "\n",
        "d = {1 : \"A\", 2 : \"B\", 3 : \"C\"}\n",
        "k = d.setdefault(5,[])\n",
        "print(k)"
      ],
      "metadata": {
        "colab": {
          "base_uri": "https://localhost:8080/"
        },
        "id": "uO-HQ-4yX5wY",
        "outputId": "19fc2962-62ba-43ea-c3c9-5ee204e65614"
      },
      "execution_count": 33,
      "outputs": [
        {
          "output_type": "stream",
          "name": "stdout",
          "text": [
            "[]\n"
          ]
        }
      ]
    },
    {
      "cell_type": "code",
      "source": [
        "#This will work no error\n",
        "print('hello' 'world')"
      ],
      "metadata": {
        "colab": {
          "base_uri": "https://localhost:8080/"
        },
        "id": "QDSpPZCYZWCf",
        "outputId": "c25828e0-9d16-4982-ba80-5216c6926f13"
      },
      "execution_count": 34,
      "outputs": [
        {
          "output_type": "stream",
          "name": "stdout",
          "text": [
            "helloworld\n"
          ]
        }
      ]
    },
    {
      "cell_type": "code",
      "source": [
        "print('*', \"abc\".center(10) , '*' , sep='-')"
      ],
      "metadata": {
        "colab": {
          "base_uri": "https://localhost:8080/"
        },
        "id": "cFpLD768aH3O",
        "outputId": "5194ba5e-8f89-459e-a68d-d32822cdac56"
      },
      "execution_count": 45,
      "outputs": [
        {
          "output_type": "stream",
          "name": "stdout",
          "text": [
            "*-   abc    -*\n"
          ]
        }
      ]
    },
    {
      "cell_type": "markdown",
      "source": [
        ".center aligns the string center and uses a specified character as the fill character. array axis works in (z,y,x) format"
      ],
      "metadata": {
        "id": "DUYCuZw7cSHV"
      }
    },
    {
      "cell_type": "code",
      "source": [
        "#Using if-else in lambda functions\n",
        "\n",
        "result = lambda x : f\"{x} is even\" if x %2==0 else f\"{x} is odd\"\n",
        " \n",
        "# print for numbers\n",
        "print(result(12))\n",
        "print(result(11))"
      ],
      "metadata": {
        "colab": {
          "base_uri": "https://localhost:8080/"
        },
        "id": "GX0v9xy5ciDL",
        "outputId": "5e1b8780-c996-47af-b89e-8234bdcd5714"
      },
      "execution_count": 46,
      "outputs": [
        {
          "output_type": "stream",
          "name": "stdout",
          "text": [
            "12 is even\n",
            "11 is odd\n"
          ]
        }
      ]
    },
    {
      "cell_type": "code",
      "source": [
        "print('{0:.2%}'.format(1/4))"
      ],
      "metadata": {
        "colab": {
          "base_uri": "https://localhost:8080/"
        },
        "id": "8dWHxMo0eAQx",
        "outputId": "3268c50b-65a9-4f53-a60c-c6bfe67873c6"
      },
      "execution_count": 47,
      "outputs": [
        {
          "output_type": "stream",
          "name": "stdout",
          "text": [
            "25.00%\n"
          ]
        }
      ]
    },
    {
      "cell_type": "code",
      "source": [
        "#The task of len function is to return keys in the dictionary\n",
        "counter = {}\n",
        " \n",
        "def addToCounter(country):\n",
        "    if country in  counter:\n",
        "        counter[country] += 1\n",
        "    else:\n",
        "        counter[country] = 1\n",
        " \n",
        "addToCounter('China')\n",
        "addToCounter('Japan')\n",
        "addToCounter('china')\n",
        " \n",
        "print (len(counter))"
      ],
      "metadata": {
        "colab": {
          "base_uri": "https://localhost:8080/"
        },
        "id": "AZzPipw3fdIo",
        "outputId": "b551bca2-eb35-4f4f-a85e-343fe7da46e2"
      },
      "execution_count": 48,
      "outputs": [
        {
          "output_type": "stream",
          "name": "stdout",
          "text": [
            "3\n"
          ]
        }
      ]
    },
    {
      "cell_type": "code",
      "source": [
        "class Geeks:\n",
        "    def __init__(self, id):\n",
        "        self.id = id\n",
        "  \n",
        "manager = Geeks(100)\n",
        "  \n",
        "manager.__dict__['life'] = 49\n",
        "  \n",
        "print (manager.life + len(manager.__dict__))"
      ],
      "metadata": {
        "colab": {
          "base_uri": "https://localhost:8080/"
        },
        "id": "u8t6H2DRgJ8h",
        "outputId": "223314dc-b900-4ba9-b926-71c45f11b203"
      },
      "execution_count": 49,
      "outputs": [
        {
          "output_type": "stream",
          "name": "stdout",
          "text": [
            "51\n"
          ]
        }
      ]
    },
    {
      "cell_type": "markdown",
      "source": [
        ".id is already a part of the manager dictionary and we are adding another one named .life "
      ],
      "metadata": {
        "id": "dMdQgfpegL1h"
      }
    },
    {
      "cell_type": "code",
      "source": [
        "#How to access the doc string of a python function\n",
        "def gfgFunction():\n",
        "    \"Geeksforgeeks is cool website for boosting up technical skills\"\n",
        "    return 1\n",
        " \n",
        "print (gfgFunction.__doc__[17:21])"
      ],
      "metadata": {
        "colab": {
          "base_uri": "https://localhost:8080/"
        },
        "id": "wZZHYRSkgTrG",
        "outputId": "9fe472f8-d1c2-447f-d85f-f8c5fcb9a8e2"
      },
      "execution_count": 50,
      "outputs": [
        {
          "output_type": "stream",
          "name": "stdout",
          "text": [
            "cool\n"
          ]
        }
      ]
    },
    {
      "cell_type": "code",
      "source": [
        "\n",
        "class A(object):\n",
        "    val = 1\n",
        " \n",
        "class B(A):\n",
        "    pass\n",
        " \n",
        "class C(A):\n",
        "    pass\n",
        " \n",
        "print (A.val, B.val, C.val)\n",
        "B.val = 2\n",
        "print (A.val, B.val, C.val)\n",
        "A.val = 3\n",
        "print (A.val, B.val, C.val)"
      ],
      "metadata": {
        "id": "245ztnQxg61e"
      },
      "execution_count": null,
      "outputs": []
    },
    {
      "cell_type": "markdown",
      "source": [
        "In Python, class variables are internally handled as dictionaries. If a variable name is not found in the dictionary of the current class, the class hierarchy (i.e., its parent classes) are searched until the referenced variable name is found, if the variable is not found error is being thrown. So, in the above program the first call to print() prints the initialized value i.e, 1. In the second call since B. val is set to 2, the output is 1 2 1. The last output 3 2 3 may be surprising. Instead of 3 3 3, here B.val reflects 2 instead of 3 since it is overridden earlier."
      ],
      "metadata": {
        "id": "bI7jQHRehPZt"
      }
    },
    {
      "cell_type": "code",
      "source": [
        "check1 = ['Learn', 'Quiz', 'Practice', 'Contribute']\n",
        "check2 = check1\n",
        "check3 = check1[:]\n",
        " \n",
        "check2[0] = 'Code'\n",
        "check3[1] = 'Mcq'\n",
        "\n",
        "count = 0\n",
        "for c in (check1, check2, check3):\n",
        "    if c[0] == 'Code':\n",
        "        count += 1\n",
        "    if c[1] == 'Mcq':\n",
        "        count += 10\n",
        "\n",
        "print(count)\n",
        " "
      ],
      "metadata": {
        "colab": {
          "base_uri": "https://localhost:8080/"
        },
        "id": "tLicLiiehQfl",
        "outputId": "4d6a883b-3350-45a2-994e-e3c67e175356"
      },
      "execution_count": 59,
      "outputs": [
        {
          "output_type": "stream",
          "name": "stdout",
          "text": [
            "12\n"
          ]
        }
      ]
    },
    {
      "cell_type": "markdown",
      "source": [
        "When assigning check1 to check2, we create a second reference to the same list. Changes to check2 affects check1. When assigning the slice of all elements in check1 to check3, we are creating a full copy of check1 which can be modified independently (i.e, any change in check3 will not affect check1). So, while checking check1 ‘Code’ gets matched and count increases to 1, but Mcq doesn’t gets matched since its available only in check3. Now checking check2 here also ‘Code’ gets matched resulting in count value to 2. Finally while checking check3 which is separate than both check1 and check2 here only Mcq gets matched and count becomes 12. "
      ],
      "metadata": {
        "id": "gxXNgj8SkTYj"
      }
    },
    {
      "cell_type": "code",
      "source": [
        "def gfg(x,l=[]):\n",
        "    for i in range(x):\n",
        "        l.append(i*i)\n",
        "    print(l)\n",
        " \n",
        "gfg(2)\n",
        "gfg(3,[3,2,1])\n",
        "gfg(3)"
      ],
      "metadata": {
        "colab": {
          "base_uri": "https://localhost:8080/"
        },
        "id": "OHPyO84yjw1y",
        "outputId": "3015dd7c-ef52-4765-8cb5-45bd28396736"
      },
      "execution_count": 60,
      "outputs": [
        {
          "output_type": "stream",
          "name": "stdout",
          "text": [
            "[0, 1]\n",
            "[3, 2, 1, 0, 1, 4]\n",
            "[0, 1, 0, 1, 4]\n"
          ]
        }
      ]
    },
    {
      "cell_type": "markdown",
      "source": [
        "The third function call is the weird one. It uses the original list stored in the original memory block. That is why it starts off with 0 and 1. "
      ],
      "metadata": {
        "id": "sKE5bAhgk3WC"
      }
    },
    {
      "cell_type": "code",
      "source": [
        "#To print raw strings with no consideration for special characters\n",
        "print(r'C:\\\\inside C directory')"
      ],
      "metadata": {
        "colab": {
          "base_uri": "https://localhost:8080/"
        },
        "id": "WJTNJvR_k5S6",
        "outputId": "95825653-d2e6-47dd-c19c-714b7e4eca4d"
      },
      "execution_count": 64,
      "outputs": [
        {
          "output_type": "stream",
          "name": "stdout",
          "text": [
            "C:\\\\inside C directory\n"
          ]
        }
      ]
    },
    {
      "cell_type": "code",
      "source": [
        "d1 = [10, 20, 30, 40, 50]\n",
        "d2 = [1, 2, 3, 4, 5]\n",
        "print(d1 - d2)"
      ],
      "metadata": {
        "colab": {
          "base_uri": "https://localhost:8080/",
          "height": 200
        },
        "id": "JJgNd9NHoB32",
        "outputId": "2b351970-9394-4f91-81fb-f76885c04b8e"
      },
      "execution_count": 67,
      "outputs": [
        {
          "output_type": "error",
          "ename": "TypeError",
          "evalue": "ignored",
          "traceback": [
            "\u001b[0;31m---------------------------------------------------------------------------\u001b[0m",
            "\u001b[0;31mTypeError\u001b[0m                                 Traceback (most recent call last)",
            "\u001b[0;32m<ipython-input-67-4ade3e5c1f79>\u001b[0m in \u001b[0;36m<module>\u001b[0;34m\u001b[0m\n\u001b[1;32m      1\u001b[0m \u001b[0md1\u001b[0m \u001b[0;34m=\u001b[0m \u001b[0;34m[\u001b[0m\u001b[0;36m10\u001b[0m\u001b[0;34m,\u001b[0m \u001b[0;36m20\u001b[0m\u001b[0;34m,\u001b[0m \u001b[0;36m30\u001b[0m\u001b[0;34m,\u001b[0m \u001b[0;36m40\u001b[0m\u001b[0;34m,\u001b[0m \u001b[0;36m50\u001b[0m\u001b[0;34m]\u001b[0m\u001b[0;34m\u001b[0m\u001b[0;34m\u001b[0m\u001b[0m\n\u001b[1;32m      2\u001b[0m \u001b[0md2\u001b[0m \u001b[0;34m=\u001b[0m \u001b[0;34m[\u001b[0m\u001b[0;36m1\u001b[0m\u001b[0;34m,\u001b[0m \u001b[0;36m2\u001b[0m\u001b[0;34m,\u001b[0m \u001b[0;36m3\u001b[0m\u001b[0;34m,\u001b[0m \u001b[0;36m4\u001b[0m\u001b[0;34m,\u001b[0m \u001b[0;36m5\u001b[0m\u001b[0;34m]\u001b[0m\u001b[0;34m\u001b[0m\u001b[0;34m\u001b[0m\u001b[0m\n\u001b[0;32m----> 3\u001b[0;31m \u001b[0mprint\u001b[0m\u001b[0;34m(\u001b[0m\u001b[0md1\u001b[0m \u001b[0;34m-\u001b[0m \u001b[0md2\u001b[0m\u001b[0;34m)\u001b[0m\u001b[0;34m\u001b[0m\u001b[0;34m\u001b[0m\u001b[0m\n\u001b[0m",
            "\u001b[0;31mTypeError\u001b[0m: unsupported operand type(s) for -: 'list' and 'list'"
          ]
        }
      ]
    },
    {
      "cell_type": "code",
      "source": [
        "lists = ['a', 'b', 'c', 'd', 'e']\n",
        "print(lists[10:])"
      ],
      "metadata": {
        "colab": {
          "base_uri": "https://localhost:8080/"
        },
        "id": "zon1kApdoIv9",
        "outputId": "e45ccf1a-2c3f-4d32-985e-58a96be9f233"
      },
      "execution_count": 68,
      "outputs": [
        {
          "output_type": "stream",
          "name": "stdout",
          "text": [
            "[]\n"
          ]
        }
      ]
    },
    {
      "cell_type": "markdown",
      "source": [
        "As one would expect, attempting to access a member of a list using an index that exceeds the number of members (e.g., attempting to access list[10] in the list above) results in an IndexError. However, attempting to access a slice of a list at a starting index that exceeds the number of members in the list will not result in an IndexError and will simply return an empty list. "
      ],
      "metadata": {
        "id": "ovcR10lQoTK1"
      }
    },
    {
      "cell_type": "code",
      "source": [
        "# negative number so empty list\n",
        "lists = ['a', 'b', 'c']*-3\n",
        "print(lists)"
      ],
      "metadata": {
        "colab": {
          "base_uri": "https://localhost:8080/"
        },
        "id": "qPWSUPV3o4T0",
        "outputId": "2a2ffaf5-8680-4770-9510-f3c9e4b4a068"
      },
      "execution_count": 69,
      "outputs": [
        {
          "output_type": "stream",
          "name": "stdout",
          "text": [
            "[]\n"
          ]
        }
      ]
    },
    {
      "cell_type": "code",
      "source": [
        "dictionary1 = {'Google' : 1,\n",
        "               'Facebook' : 2,\n",
        "               'Microsoft' : 3\n",
        "               }\n",
        "dictionary2 = {'GFG' : 1,\n",
        "               'Microsoft' : 2,\n",
        "               'Youtube' : 3\n",
        "               }\n",
        "dictionary1.update(dictionary2);\n",
        "for key, values in dictionary1.items():\n",
        "    print(key, values)"
      ],
      "metadata": {
        "colab": {
          "base_uri": "https://localhost:8080/"
        },
        "id": "8TKapkhRpOrs",
        "outputId": "a3bf6074-882f-4f05-d91c-c52ae43c27c0"
      },
      "execution_count": 70,
      "outputs": [
        {
          "output_type": "stream",
          "name": "stdout",
          "text": [
            "Google 1\n",
            "Facebook 2\n",
            "Microsoft 2\n",
            "GFG 1\n",
            "Youtube 3\n"
          ]
        }
      ]
    },
    {
      "cell_type": "code",
      "source": [
        "#The value assigned most recently is returned from the dictionary\n",
        "\n",
        "\n",
        "dictionary1 = {'GFG' : 1,\n",
        "               'Google' : 2,\n",
        "               'GFG' : 3\n",
        "               }\n",
        "print(dictionary1['GFG']);"
      ],
      "metadata": {
        "colab": {
          "base_uri": "https://localhost:8080/"
        },
        "id": "niwI0-1spWTE",
        "outputId": "4dfea87e-a106-47a4-85db-2b31e2738c31"
      },
      "execution_count": 71,
      "outputs": [
        {
          "output_type": "stream",
          "name": "stdout",
          "text": [
            "3\n"
          ]
        }
      ]
    },
    {
      "cell_type": "code",
      "source": [
        "#Finally if used must come after else block or else we will get one runtime error\n",
        "\n",
        "data = 50\n",
        "try:\n",
        "    data = data/0\n",
        "except ZeroDivisionError:\n",
        "    print('Cannot divide by 0 ', end = '')\n",
        "else:\n",
        "    print('Division successful ', end = '')\n",
        "  \n",
        "try:\n",
        "    data = data/5\n",
        "except:\n",
        "    print('Inside except block ', end = '')\n",
        "else:\n",
        "    print('GFG', end = '')"
      ],
      "metadata": {
        "colab": {
          "base_uri": "https://localhost:8080/"
        },
        "id": "ReTKuW4jqP7b",
        "outputId": "f908f5fa-a8c7-4408-b73c-2c504007878d"
      },
      "execution_count": 72,
      "outputs": [
        {
          "output_type": "stream",
          "name": "stdout",
          "text": [
            "Cannot divide by 0 GFG"
          ]
        }
      ]
    },
    {
      "cell_type": "code",
      "source": [
        "data = [2, 3, 9]\n",
        "temp = [[x for x in [data]] for x in range(3)]\n",
        "temp2 = [x for x in [data]]\n",
        "print (temp , temp2)"
      ],
      "metadata": {
        "colab": {
          "base_uri": "https://localhost:8080/"
        },
        "id": "QJmg0yGJues2",
        "outputId": "308b4d1b-f52a-4c5c-976d-d9d3ac729928"
      },
      "execution_count": 77,
      "outputs": [
        {
          "output_type": "stream",
          "name": "stdout",
          "text": [
            "[[[2, 3, 9]], [[2, 3, 9]], [[2, 3, 9]]] [[2, 3, 9]]\n"
          ]
        }
      ]
    },
    {
      "cell_type": "code",
      "source": [
        "#nested list comprehension\n",
        "\n",
        "\n",
        "temp = 'Geeks 22536 for 445 Geeks'\n",
        "data = [x for x in (int(x) for x in temp if x.isdigit()) if x%2 == 0]\n",
        "print(data)"
      ],
      "metadata": {
        "colab": {
          "base_uri": "https://localhost:8080/"
        },
        "id": "JlT158xdv8Id",
        "outputId": "deb89099-5ea5-411b-db15-5f365863357c"
      },
      "execution_count": 78,
      "outputs": [
        {
          "output_type": "stream",
          "name": "stdout",
          "text": [
            "[2, 2, 6, 4, 4]\n"
          ]
        }
      ]
    },
    {
      "cell_type": "code",
      "source": [
        "#T1 is an integer while T2 is tuple. Thus T1 will become 1 + 5 = 6. But an integer and tuple cannot be added, it will throw TypeError.\n",
        "T1 = (1)\n",
        "T2 = (3, 4)\n",
        "T1 += 5\n",
        "print(T1)\n",
        "print(T1 + T2)"
      ],
      "metadata": {
        "colab": {
          "base_uri": "https://localhost:8080/",
          "height": 217
        },
        "id": "uv5ymE5JxT5L",
        "outputId": "45041e6c-e66e-4ad7-cb98-b512a467df55"
      },
      "execution_count": 80,
      "outputs": [
        {
          "output_type": "stream",
          "name": "stdout",
          "text": [
            "6\n"
          ]
        },
        {
          "output_type": "error",
          "ename": "TypeError",
          "evalue": "ignored",
          "traceback": [
            "\u001b[0;31m---------------------------------------------------------------------------\u001b[0m",
            "\u001b[0;31mTypeError\u001b[0m                                 Traceback (most recent call last)",
            "\u001b[0;32m<ipython-input-80-129bae0a3e15>\u001b[0m in \u001b[0;36m<module>\u001b[0;34m\u001b[0m\n\u001b[1;32m      4\u001b[0m \u001b[0mT1\u001b[0m \u001b[0;34m+=\u001b[0m \u001b[0;36m5\u001b[0m\u001b[0;34m\u001b[0m\u001b[0;34m\u001b[0m\u001b[0m\n\u001b[1;32m      5\u001b[0m \u001b[0mprint\u001b[0m\u001b[0;34m(\u001b[0m\u001b[0mT1\u001b[0m\u001b[0;34m)\u001b[0m\u001b[0;34m\u001b[0m\u001b[0;34m\u001b[0m\u001b[0m\n\u001b[0;32m----> 6\u001b[0;31m \u001b[0mprint\u001b[0m\u001b[0;34m(\u001b[0m\u001b[0mT1\u001b[0m \u001b[0;34m+\u001b[0m \u001b[0mT2\u001b[0m\u001b[0;34m)\u001b[0m\u001b[0;34m\u001b[0m\u001b[0;34m\u001b[0m\u001b[0m\n\u001b[0m",
            "\u001b[0;31mTypeError\u001b[0m: unsupported operand type(s) for +: 'int' and 'tuple'"
          ]
        }
      ]
    },
    {
      "cell_type": "code",
      "source": [
        "#How True are handled\n",
        "List = [True, 50, 10]\n",
        "List.insert(2, 5)   \n",
        "print(List, \"Sum is: \", sum(List))"
      ],
      "metadata": {
        "colab": {
          "base_uri": "https://localhost:8080/"
        },
        "id": "XLDp3KUWyefa",
        "outputId": "4f2ca309-d222-44fd-fcb3-be188d77d009"
      },
      "execution_count": 81,
      "outputs": [
        {
          "output_type": "stream",
          "name": "stdout",
          "text": [
            "[True, 50, 5, 10] Sum is:  66\n"
          ]
        }
      ]
    },
    {
      "cell_type": "code",
      "source": [
        "#Remove return nothing\n",
        "L = [1, 3, 5, 7, 9]\n",
        "print(L.pop(-3), end = '  ')\n",
        "print(L.remove(L[0]), end = '  ')\n",
        "print(L)"
      ],
      "metadata": {
        "colab": {
          "base_uri": "https://localhost:8080/"
        },
        "id": "ACIFNhPiy0rp",
        "outputId": "789357d4-222c-46e9-c7c8-1cce5b88cfa1"
      },
      "execution_count": 82,
      "outputs": [
        {
          "output_type": "stream",
          "name": "stdout",
          "text": [
            "5  None  [3, 7, 9]\n"
          ]
        }
      ]
    },
    {
      "cell_type": "code",
      "source": [
        "#Will result in infinite loop\n",
        "x = ['ab', 'cd']\n",
        "for i in x:\n",
        "    x.append(i.upper())\n",
        "print(x)"
      ],
      "metadata": {
        "id": "yH29raD12ILN"
      },
      "execution_count": null,
      "outputs": []
    },
    {
      "cell_type": "code",
      "source": [
        "x = 123\n",
        "for i in x:\n",
        "    print(i)"
      ],
      "metadata": {
        "colab": {
          "base_uri": "https://localhost:8080/",
          "height": 200
        },
        "id": "SpJZg7Vp2Ztl",
        "outputId": "e9425d10-372c-476c-c5da-359f605e2494"
      },
      "execution_count": 83,
      "outputs": [
        {
          "output_type": "error",
          "ename": "TypeError",
          "evalue": "ignored",
          "traceback": [
            "\u001b[0;31m---------------------------------------------------------------------------\u001b[0m",
            "\u001b[0;31mTypeError\u001b[0m                                 Traceback (most recent call last)",
            "\u001b[0;32m<ipython-input-83-ac8876007088>\u001b[0m in \u001b[0;36m<module>\u001b[0;34m\u001b[0m\n\u001b[1;32m      1\u001b[0m \u001b[0mx\u001b[0m \u001b[0;34m=\u001b[0m \u001b[0;36m123\u001b[0m\u001b[0;34m\u001b[0m\u001b[0;34m\u001b[0m\u001b[0m\n\u001b[0;32m----> 2\u001b[0;31m \u001b[0;32mfor\u001b[0m \u001b[0mi\u001b[0m \u001b[0;32min\u001b[0m \u001b[0mx\u001b[0m\u001b[0;34m:\u001b[0m\u001b[0;34m\u001b[0m\u001b[0;34m\u001b[0m\u001b[0m\n\u001b[0m\u001b[1;32m      3\u001b[0m     \u001b[0mprint\u001b[0m\u001b[0;34m(\u001b[0m\u001b[0mi\u001b[0m\u001b[0;34m)\u001b[0m\u001b[0;34m\u001b[0m\u001b[0;34m\u001b[0m\u001b[0m\n",
            "\u001b[0;31mTypeError\u001b[0m: 'int' object is not iterable"
          ]
        }
      ]
    },
    {
      "cell_type": "code",
      "source": [
        "numberGames = {}\n",
        "numberGames[(1,2,4)] = 8\n",
        "numberGames[(4,2,1)] = 10\n",
        "numberGames[(1,2)] = 12\n",
        "  \n",
        "sum = 0\n",
        "for k in numberGames:\n",
        "    sum += numberGames[k]\n",
        "  \n",
        "print(len(numberGames) + sum)"
      ],
      "metadata": {
        "colab": {
          "base_uri": "https://localhost:8080/"
        },
        "id": "GOUn6hyg3mIs",
        "outputId": "fe785599-5099-40e3-bee6-478d7efc70a5"
      },
      "execution_count": 84,
      "outputs": [
        {
          "output_type": "stream",
          "name": "stdout",
          "text": [
            "33\n"
          ]
        }
      ]
    },
    {
      "cell_type": "markdown",
      "source": [
        "objects of type int are not iterable off course"
      ],
      "metadata": {
        "id": "IOFk4NRT2bRO"
      }
    },
    {
      "cell_type": "code",
      "source": [
        "#Tuple concatenation\n",
        "\n",
        "\n",
        "t = (1, 2)\n",
        "print(2 * t)"
      ],
      "metadata": {
        "colab": {
          "base_uri": "https://localhost:8080/"
        },
        "id": "9a9TNvQw37Xr",
        "outputId": "fda856f9-fd33-43a3-c8cb-54a7b0705bfc"
      },
      "execution_count": 86,
      "outputs": [
        {
          "output_type": "stream",
          "name": "stdout",
          "text": [
            "(1, 2, 1, 2)\n"
          ]
        }
      ]
    },
    {
      "cell_type": "code",
      "source": [],
      "metadata": {
        "colab": {
          "base_uri": "https://localhost:8080/",
          "height": 200
        },
        "id": "fY4Xm1iT4IVL",
        "outputId": "925c3745-84da-4a9f-f40e-06596a07b286"
      },
      "execution_count": 87,
      "outputs": [
        {
          "output_type": "error",
          "ename": "TypeError",
          "evalue": "ignored",
          "traceback": [
            "\u001b[0;31m---------------------------------------------------------------------------\u001b[0m",
            "\u001b[0;31mTypeError\u001b[0m                                 Traceback (most recent call last)",
            "\u001b[0;32m<ipython-input-87-b3aeef42cd31>\u001b[0m in \u001b[0;36m<module>\u001b[0;34m\u001b[0m\n\u001b[1;32m      1\u001b[0m \u001b[0md1\u001b[0m \u001b[0;34m=\u001b[0m \u001b[0;34m{\u001b[0m\u001b[0;34m\"john\"\u001b[0m\u001b[0;34m:\u001b[0m\u001b[0;36m40\u001b[0m\u001b[0;34m,\u001b[0m \u001b[0;34m\"peter\"\u001b[0m\u001b[0;34m:\u001b[0m\u001b[0;36m45\u001b[0m\u001b[0;34m}\u001b[0m\u001b[0;34m\u001b[0m\u001b[0;34m\u001b[0m\u001b[0m\n\u001b[1;32m      2\u001b[0m \u001b[0md2\u001b[0m \u001b[0;34m=\u001b[0m \u001b[0;34m{\u001b[0m\u001b[0;34m\"john\"\u001b[0m\u001b[0;34m:\u001b[0m\u001b[0;36m466\u001b[0m\u001b[0;34m,\u001b[0m \u001b[0;34m\"peter\"\u001b[0m\u001b[0;34m:\u001b[0m\u001b[0;36m45\u001b[0m\u001b[0;34m}\u001b[0m\u001b[0;34m\u001b[0m\u001b[0;34m\u001b[0m\u001b[0m\n\u001b[0;32m----> 3\u001b[0;31m \u001b[0mprint\u001b[0m \u001b[0;34m(\u001b[0m\u001b[0md1\u001b[0m \u001b[0;34m>\u001b[0m \u001b[0md2\u001b[0m\u001b[0;34m)\u001b[0m\u001b[0;34m\u001b[0m\u001b[0;34m\u001b[0m\u001b[0m\n\u001b[0m",
            "\u001b[0;31mTypeError\u001b[0m: '>' not supported between instances of 'dict' and 'dict'"
          ]
        }
      ]
    },
    {
      "cell_type": "code",
      "source": [
        "'''\n",
        "d1 = {\"john\":40, \"peter\":45}\n",
        "d2 = {\"john\":466, \"peter\":45}\n",
        "print (d1 > d2)\n",
        "'''\n",
        "#This will give error as two dict can't be compared like this\n",
        "\n",
        "my_tuple = (6, 9, 0, 0)\n",
        "my_tuple1 = (5, 2, 3, 4)\n",
        "print(my_tuple > my_tuple1)"
      ],
      "metadata": {
        "colab": {
          "base_uri": "https://localhost:8080/"
        },
        "id": "oYDzCeMN4Jiz",
        "outputId": "0b0bbdb0-9d3a-472e-be3e-868c4eff0cce"
      },
      "execution_count": 89,
      "outputs": [
        {
          "output_type": "stream",
          "name": "stdout",
          "text": [
            "True\n"
          ]
        }
      ]
    },
    {
      "cell_type": "markdown",
      "source": [
        "Each elements of the tuples are compared one by one and if maximum number of elements are there in tuple1 which are greater of equal to corresponding element of tuple2 then tuple1 is said to be greater than tuple2. "
      ],
      "metadata": {
        "id": "7prS5nE44Xpb"
      }
    },
    {
      "cell_type": "code",
      "source": [
        "L = list('123456')\n",
        "L[0] = L[5] = 0\n",
        "L[3] = L[-2]\n",
        "print(L)"
      ],
      "metadata": {
        "colab": {
          "base_uri": "https://localhost:8080/"
        },
        "id": "p7GMm2S15A6a",
        "outputId": "6a643e93-66d4-4617-f7db-8e963a7c078e"
      },
      "execution_count": 90,
      "outputs": [
        {
          "output_type": "stream",
          "name": "stdout",
          "text": [
            "[0, '2', '3', '5', '5', 0]\n"
          ]
        }
      ]
    },
    {
      "cell_type": "markdown",
      "source": [
        "L[0] is ‘1’ and L[5] is ‘6’, both of these elements will be replaced by 0 in the List. L[3], which is 4 will be replaced L[-2] i.e. 5."
      ],
      "metadata": {
        "id": "PcDYQCYM5Djh"
      }
    },
    {
      "cell_type": "code",
      "source": [
        "T = 'geeks'\n",
        "a, b, c, d, e = T\n",
        "b = c = '*'\n",
        "T = (a, b, c, d, e)\n",
        "print(T)"
      ],
      "metadata": {
        "colab": {
          "base_uri": "https://localhost:8080/"
        },
        "id": "_oacMhis5Tir",
        "outputId": "2b4893fc-91bc-4d13-cf9d-18d424f793a5"
      },
      "execution_count": 91,
      "outputs": [
        {
          "output_type": "stream",
          "name": "stdout",
          "text": [
            "('g', '*', '*', 'k', 's')\n"
          ]
        }
      ]
    },
    {
      "cell_type": "code",
      "source": [
        "a = 2\n",
        "b = '3.77'\n",
        "c = -8\n",
        "str1 = '{0:.4f} {0:3d} {2} {1}'.format(a, b, c)\n",
        "print(str1)"
      ],
      "metadata": {
        "colab": {
          "base_uri": "https://localhost:8080/"
        },
        "id": "6KuLM5J66zrA",
        "outputId": "58fb40c5-8d05-4aa4-f48c-26f2f444f4ae"
      },
      "execution_count": 92,
      "outputs": [
        {
          "output_type": "stream",
          "name": "stdout",
          "text": [
            "2.0000   2 -8 3.77\n"
          ]
        }
      ]
    },
    {
      "cell_type": "markdown",
      "source": [
        " At Index 0, integer a is formatted into a float with 4 decimal points, thus 2.0000. "
      ],
      "metadata": {
        "id": "vRr58Zl17E4Y"
      }
    },
    {
      "cell_type": "code",
      "source": [
        "#In this case elements will be compared one by one. So, when it compares 4 with 3 it will return False.\n",
        "tuple1 = (1, 2, 4, 3)\n",
        "tuple2 = (1, 2, 3, 4)\n",
        "print(tuple1 < tuple2)"
      ],
      "metadata": {
        "id": "itWoaaw77FpA"
      },
      "execution_count": null,
      "outputs": []
    },
    {
      "cell_type": "code",
      "source": [
        "d = {\"a\": 3, \"b\": 2, \"c\": 5, \"d\": 2}\n",
        "\n",
        "c = list(zip(d.keys() ,d.values()))\n",
        "\n",
        "sorted_c = sorted(c, key = lambda x : (x[1],x[0]), reverse = True )\n",
        "\n",
        "sorted_c"
      ],
      "metadata": {
        "colab": {
          "base_uri": "https://localhost:8080/"
        },
        "id": "pceMIlBhhpaP",
        "outputId": "7ba8564b-d63a-4069-c37d-30ebec9c1478"
      },
      "execution_count": null,
      "outputs": [
        {
          "output_type": "execute_result",
          "data": {
            "text/plain": [
              "[('c', 5), ('a', 3), ('d', 2), ('b', 2)]"
            ]
          },
          "metadata": {},
          "execution_count": 15
        }
      ]
    },
    {
      "cell_type": "code",
      "source": [
        "'''\n",
        "With the help of np.array() function\n",
        "Define 3, 4, 2 matrix\n",
        "50 sentences\n",
        "500 unique words\n",
        "25 batch size\n",
        "one hot encoding\n",
        "25,2,500\n",
        "'''\n"
      ],
      "metadata": {
        "id": "7E9AQydxjx9I"
      },
      "execution_count": null,
      "outputs": []
    }
  ]
}